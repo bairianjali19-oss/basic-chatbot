{
  "metadata": {
    "kernelspec": {
      "name": "xpython",
      "display_name": "Python 3.13 (XPython)",
      "language": "python"
    },
    "language_info": {
      "file_extension": ".py",
      "mimetype": "text/x-python",
      "name": "python",
      "version": "3.13.1"
    }
  },
  "nbformat_minor": 5,
  "nbformat": 4,
  "cells": [
    {
      "id": "1c86f1ab-d0e2-4754-96de-489cfb92dd8e",
      "cell_type": "code",
      "source": "def chatbot():\n    print(\"Chatbot: Hi! I'm your friendly bot. Type 'bye' to end the chat.\\n\")\n    \n    while True:\n        user_input = input(\"You: \").lower()  # get user input and make it lowercase\n        \n        if user_input in [\"hi\", \"hello\"]:\n            print(\"Chatbot: Hello! How are you?\")\n        \n        elif user_input in [\"how are you\", \"how are you?\"]:\n            print(\"Chatbot: I'm fine, thanks! How about you?\")\n        \n        elif user_input in [\"i am fine\", \"i'm fine\", \"good\", \"fine\"]:\n            print(\"Chatbot: That's great to hear!\")\n        \n        elif user_input in [\"bye\", \"exit\", \"quit\"]:\n            print(\"Chatbot: Goodbye! Have a nice day 😊\")\n            break\n        \n        else:\n            print(\"Chatbot: Sorry, I didn’t understand that. Can you repeat?\")\nchatbot()",
      "metadata": {
        "trusted": true
      },
      "outputs": [
        {
          "name": "stdout",
          "output_type": "stream",
          "text": "Chatbot: Hi! I'm your friendly bot. Type 'bye' to end the chat.\n\n"
        },
        {
          "output_type": "stream",
          "name": "stdin",
          "text": "You:  hello\n"
        },
        {
          "name": "stdout",
          "output_type": "stream",
          "text": "Chatbot: Hello! How are you?\n"
        },
        {
          "output_type": "stream",
          "name": "stdin",
          "text": "You:  fine\n"
        },
        {
          "name": "stdout",
          "output_type": "stream",
          "text": "Chatbot: That's great to hear!\n"
        },
        {
          "output_type": "stream",
          "name": "stdin",
          "text": "You:  bye\n"
        },
        {
          "name": "stdout",
          "output_type": "stream",
          "text": "Chatbot: Goodbye! Have a nice day 😊\n"
        }
      ],
      "execution_count": 1
    },
    {
      "id": "16a61177-50fc-48e4-9102-8eab95d0238c",
      "cell_type": "code",
      "source": "",
      "metadata": {
        "trusted": true
      },
      "outputs": [],
      "execution_count": null
    }
  ]
}